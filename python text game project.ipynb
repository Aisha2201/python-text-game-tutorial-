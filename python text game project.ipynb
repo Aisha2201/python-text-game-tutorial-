{
 "cells": [
  {
   "cell_type": "code",
   "execution_count": 8,
   "id": "f64f2277",
   "metadata": {},
   "outputs": [
    {
     "name": "stdout",
     "output_type": "stream",
     "text": [
      "what you like to play? (yes/no) yes\n",
      "you reach a crossroads,would you like to left or right?left\n",
      "you encounter a monster,would you like to run or attack?run\n",
      "Good choice, you made it so safely.\n",
      "you see a car and a plane.Which would you like to take?(car/plane)plane\n",
      "Unfortunately you do not know how to fly...Game Over!\n"
     ]
    }
   ],
   "source": [
    "answer=input(\"what you like to play? (yes/no) \")\n",
    "if answer.lower().strip()==\"yes\":\n",
    "    answer=input(\"you reach a crossroads,would you like to left or right?\").lower().strip()\n",
    "    if answer ==\"left\":\n",
    "        answer= input(\"you encounter a monster,would you like to run or attack?\")\n",
    "        if answer==\"attack\":\n",
    "            print(\"that was not greatest idea,you lost!\")\n",
    "        else:\n",
    "            print(\"Good choice, you made it so safely.\")\n",
    "            answer = input(\"you see a car and a plane.Which would you like to take?(car/plane)\")\n",
    "            if answer==\"plane\":\n",
    "                print(\"Unfortunately you do not know how to fly...Game Over!\")\n",
    "            else:\n",
    "                print(\"You won!\")\n",
    "    elif answer == \"right\":\n",
    "        print(\"You walk aimlessly to the right and fall on a patch of ice.You injure your leg and cannot continue game!\")\n",
    "    else:\n",
    "        print(\"Invalid choice,you lost!\")\n",
    "else:\n",
    "    print(\"that's to bad!\")\n",
    "    "
   ]
  },
  {
   "cell_type": "code",
   "execution_count": null,
   "id": "a7c483ef",
   "metadata": {},
   "outputs": [],
   "source": []
  }
 ],
 "metadata": {
  "kernelspec": {
   "display_name": "Python 3 (ipykernel)",
   "language": "python",
   "name": "python3"
  },
  "language_info": {
   "codemirror_mode": {
    "name": "ipython",
    "version": 3
   },
   "file_extension": ".py",
   "mimetype": "text/x-python",
   "name": "python",
   "nbconvert_exporter": "python",
   "pygments_lexer": "ipython3",
   "version": "3.9.13"
  }
 },
 "nbformat": 4,
 "nbformat_minor": 5
}
